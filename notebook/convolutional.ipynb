{
 "cells": [
  {
   "cell_type": "markdown",
   "metadata": {},
   "source": [
    "# Convolution layer \n",
    "- Trong notebook này, tôi sẽ thử nghiệm hiệu quả giữa kiến trúc mạng convolution thông qua bộ dữ liệu MNIST \n",
    "- So sánh sử dụng cài đặt pytorch và tensor với tốc độ chạy trên thư viện tự cài đặt với numpy trên cpu "
   ]
  },
  {
   "cell_type": "markdown",
   "metadata": {},
   "source": [
    "## Cài đặt thông qua deepmodel "
   ]
  },
  {
   "cell_type": "code",
   "execution_count": null,
   "metadata": {},
   "outputs": [],
   "source": [
    "from deepmodel.nnets.layer import Linear, Conv\n"
   ]
  },
  {
   "cell_type": "code",
   "execution_count": null,
   "metadata": {},
   "outputs": [],
   "source": []
  }
 ],
 "metadata": {
  "kernelspec": {
   "display_name": "workspace",
   "language": "python",
   "name": "python3"
  },
  "language_info": {
   "name": "python",
   "version": "3.10.14"
  }
 },
 "nbformat": 4,
 "nbformat_minor": 2
}
