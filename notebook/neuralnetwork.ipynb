{
 "cells": [
  {
   "cell_type": "markdown",
   "metadata": {},
   "source": [
    "# Neural network from scratch\n",
    "- Trong notebook này, tôi sẽ thử nghiệm mạng neurall fully-connected được tự cài đặt thông qua bài toán đó là bài toán XOR. \n",
    "- Tôi sẽ đánh giá hiệu của code thông qua việc cài đặt song song giữa pytorch và module do tôi cài đặt, so sánh hiệu quả giữa chúng.  "
   ]
  },
  {
   "cell_type": "markdown",
   "metadata": {},
   "source": [
    "# XOR \n"
   ]
  },
  {
   "cell_type": "code",
   "execution_count": 1,
   "metadata": {},
   "outputs": [],
   "source": [
    "import numpy as np \n",
    "\n",
    "# prepare training data \n",
    "X_train = np.array([[[0,0]], [[0,1]], [[1,0]], [[1,1]]])\n",
    "y_train = np.array([[[0]], [[1]], [[1]], [[0]]])\n"
   ]
  },
  {
   "cell_type": "code",
   "execution_count": 2,
   "metadata": {},
   "outputs": [],
   "source": [
    "EPOCHS = 10\n",
    "LEARNING_RATE = 0.01\n"
   ]
  },
  {
   "cell_type": "code",
   "execution_count": null,
   "metadata": {},
   "outputs": [],
   "source": [
    "from deepmodel.neuralnets.network import Network\n",
    "from deepmodel.neuralnets.layer import Linear\n",
    "from deepmodel.neuralnets.activations import Tanh\n",
    "from deepmodel.neuralnets.loss import MSELoss\n",
    "\n",
    "# setup model \n",
    "model = Network()\n",
    "model.add(Linear(2, 4))\n",
    "model.add(Tanh())\n",
    "model.add(Linear(4, 1))\n",
    "model.add(Tanh())\n",
    "\n",
    "# training \n",
    "loss = MSELoss()\n",
    "model.setLoss(loss)\n",
    "model.train(X_train, y_train, LEARNING_RATE, EPOCHS)\n",
    "\n",
    "# predict \n",
    "model.predict(X_train)"
   ]
  },
  {
   "cell_type": "code",
   "execution_count": null,
   "metadata": {},
   "outputs": [],
   "source": [
    "import torch\n",
    "from torch import nn\n",
    "import torch.optim as optim\n",
    "\n",
    "# Prepare data: convert NumPy arrays to PyTorch tensors\n",
    "X_train = torch.tensor([[[0, 0]], [[0, 1]], [[1, 0]], [[1, 1]]], dtype=torch.float32)\n",
    "y_train = torch.tensor([[[0]], [[1]], [[1]], [[0]]], dtype=torch.float32)\n",
    "\n",
    "# Define the model\n",
    "model = nn.Sequential(\n",
    "    nn.Linear(2, 4), \n",
    "    nn.Tanh(), \n",
    "    nn.Linear(4, 1), \n",
    "    nn.Tanh()\n",
    ")\n",
    "\n",
    "# Define loss function and optimizer\n",
    "loss_criter = nn.MSELoss()\n",
    "optimizer = optim.SGD(model.parameters(), lr=0.5)\n",
    "\n",
    "\n",
    "# Training loop\n",
    "for epoch in range(EPOCHS): \n",
    "    model.train()  # Set model to training mode\n",
    "    \n",
    "    for j in range(len(X_train)): \n",
    "        optimizer.zero_grad()  # Clear gradients\n",
    "\n",
    "        # Extract data points and reshape as needed\n",
    "        x, y = X_train[j].view(-1, 2), y_train[j].view(-1, 1)  # Reshape for batch\n",
    "\n",
    "        # Forward pass\n",
    "        y_pred = model(x)\n",
    "\n",
    "        # Compute loss\n",
    "        loss = loss_criter(y_pred, y)\n",
    "\n",
    "        # Backward pass\n",
    "        loss.backward()\n",
    "\n",
    "        # Update weights\n",
    "        optimizer.step()\n",
    "\n",
    "# After training, switch to evaluation mode\n",
    "model.eval()\n",
    "\n",
    "# Make predictions on the entire training set\n",
    "with torch.no_grad():  # No need to track gradients during inference\n",
    "    y_pred = model(X_train.view(-1, 2))  # Reshape X_train for batch prediction\n",
    "\n",
    "print(y_pred)\n"
   ]
  }
 ],
 "metadata": {
  "kernelspec": {
   "display_name": "my_env",
   "language": "python",
   "name": "python3"
  },
  "language_info": {
   "codemirror_mode": {
    "name": "ipython",
    "version": 3
   },
   "file_extension": ".py",
   "mimetype": "text/x-python",
   "name": "python",
   "nbconvert_exporter": "python",
   "pygments_lexer": "ipython3",
   "version": "3.10.12"
  }
 },
 "nbformat": 4,
 "nbformat_minor": 2
}
